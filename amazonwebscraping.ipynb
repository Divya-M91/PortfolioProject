{
 "cells": [
  {
   "cell_type": "code",
   "execution_count": 93,
   "id": "0f42e17d-9dfa-4c4d-830c-9a798891b0a2",
   "metadata": {},
   "outputs": [],
   "source": [
    "from bs4 import BeautifulSoup\n",
    "import requests\n",
    "import time\n",
    "import datetime\n",
    "import smtplib"
   ]
  },
  {
   "cell_type": "code",
   "execution_count": 95,
   "id": "ff8f09db-7510-489f-8476-7d8a632b863e",
   "metadata": {},
   "outputs": [
    {
     "name": "stdout",
     "output_type": "stream",
     "text": [
      "Funny Got Data MIS Data Systems Business Analyst T-Shirt\n",
      "Price not found\n",
      "2024-08-02\n"
     ]
    }
   ],
   "source": [
    "URL = 'https://www.amazon.com/Funny-Data-Systems-Business-Analyst/dp/B07FNW9FGJ/ref=sr_1_3?dchild=1&keywords=data%2Banalyst%2Btshirt&qid=1626655184&sr=8-3&customId=B0752XJYNL&th=1'\n",
    "\n",
    "headers = {\"User-Agent\": \"Mozilla/5.0 (Windows NT 10.0; Win64; x64) AppleWebKit/537.36 (KHTML, like Gecko) Chrome/78.0.3904.108 Safari/537.36\", \"Accept-Encoding\":\"gzip, deflate\", \"Accept\":\"text/html,application/xhtml+xml,application/xml;q=0.9,*/*;q=0.8\", \"DNT\":\"1\",\"Connection\":\"close\", \"Upgrade-Insecure-Requests\":\"1\"}\n",
    "\n",
    "page = requests.get(URL, headers=headers)\n",
    "\n",
    "soup1 = BeautifulSoup(page.content, \"html.parser\")\n",
    "\n",
    "soup2 = BeautifulSoup(soup1.prettify(), \"html.parser\")\n",
    "\n",
    "title = soup2.find(id='productTitle').get_text()\n",
    "\n",
    "#price = soup2.find(id='priceblock_ourprice').get_text()\n",
    "price_element = soup2.find(id='priceblock_ourprice')\n",
    "price = price_element.get_text() if price_element else 'Price not found'\n",
    "title=title.strip()\n",
    "print(title)\n",
    "print(price)\n",
    "today=datetime.date.today()\n",
    "print(today)"
   ]
  },
  {
   "cell_type": "code",
   "execution_count": 97,
   "id": "98cb1aba-5821-4584-bd27-1c2c9a38b7ea",
   "metadata": {},
   "outputs": [],
   "source": [
    "import csv\n",
    "header=['Title','Price','Date']\n",
    "data=[title, price, today]"
   ]
  },
  {
   "cell_type": "code",
   "execution_count": 101,
   "id": "4f2a5532-38ae-4779-b6fe-c4315b2f2e50",
   "metadata": {},
   "outputs": [],
   "source": [
    "with open(\"amazonwebscraperdataset.csv\",\"w\", newline='', encoding='UTF8') as f:\n",
    "          writer=csv.writer(f)\n",
    "          writer.writerow(header)\n",
    "          writer.writerow(data)\n",
    "          "
   ]
  },
  {
   "cell_type": "code",
   "execution_count": 103,
   "id": "f6953bd0-a046-40c4-904a-e84f5c4fd34b",
   "metadata": {},
   "outputs": [
    {
     "name": "stdout",
     "output_type": "stream",
     "text": [
      "                                               Title            Price  \\\n",
      "0  Funny Got Data MIS Data Systems Business Analy...  Price not found   \n",
      "\n",
      "         Date  \n",
      "0  2024-08-02  \n"
     ]
    }
   ],
   "source": [
    "import pandas as pd\n",
    "df=pd.read_csv(r\"C:\\Users\\Acer\\amazonwebscraperdataset.csv\")\n",
    "print(df)"
   ]
  },
  {
   "cell_type": "code",
   "execution_count": 105,
   "id": "7860cba6-3783-4aa8-8e7f-f20ec1ba0c91",
   "metadata": {},
   "outputs": [],
   "source": [
    "with open(\"amazonwebscraperdataset.csv\",\"a+\", newline='', encoding='UTF8') as f:\n",
    "          writer=csv.writer(f)\n",
    "          writer.writerow(data)"
   ]
  },
  {
   "cell_type": "code",
   "execution_count": 109,
   "id": "e6c09aef-0883-4fc1-9e5c-a6634008e3cd",
   "metadata": {},
   "outputs": [
    {
     "name": "stdout",
     "output_type": "stream",
     "text": [
      "                                               Title            Price  \\\n",
      "0  Funny Got Data MIS Data Systems Business Analy...  Price not found   \n",
      "1  Funny Got Data MIS Data Systems Business Analy...  Price not found   \n",
      "\n",
      "         Date  \n",
      "0  2024-08-02  \n",
      "1  2024-08-02  \n"
     ]
    }
   ],
   "source": [
    "def checkprice():\n",
    "    URL = 'https://www.amazon.com/Funny-Data-Systems-Business-Analyst/dp/B07FNW9FGJ/ref=sr_1_3?dchild=1&keywords=data%2Banalyst%2Btshirt&qid=1626655184&sr=8-3&customId=B0752XJYNL&th=1'\n",
    "\n",
    "    headers = {\"User-Agent\": \"Mozilla/5.0 (Windows NT 10.0; Win64; x64) AppleWebKit/537.36 (KHTML, like Gecko) Chrome/78.0.3904.108 Safari/537.36\", \"Accept-Encoding\":\"gzip, deflate\", \"Accept\":\"text/html,application/xhtml+xml,application/xml;q=0.9,*/*;q=0.8\", \"DNT\":\"1\",\"Connection\":\"close\", \"Upgrade-Insecure-Requests\":\"1\"}\n",
    "\n",
    "    page = requests.get(URL, headers=headers)\n",
    "\n",
    "    soup1 = BeautifulSoup(page.content, \"html.parser\")\n",
    "\n",
    "    soup2 = BeautifulSoup(soup1.prettify(), \"html.parser\")\n",
    "\n",
    "    title = soup2.find(id='productTitle').get_text()\n",
    "\n",
    "#price = soup2.find(id='priceblock_ourprice').get_text()\n",
    "    price_element = soup2.find(id='priceblock_ourprice')\n",
    "    price = price_element.get_text() if price_element else 'Price not found'\n",
    "    title=title.strip()\n",
    "#print(title)\n",
    "#print(price)\n",
    "    today=datetime.date.today()\n",
    "#print(today)\n",
    "    import csv\n",
    "    header=['Title','Price','Date']\n",
    "    data=[title, price, today]\n",
    "    #with open(\"amazonwebscraperdataset.csv\",\"w\", newline='', encoding='UTF8') as f:\n",
    "     #     writer=csv.writer(f)\n",
    "      #    writer.writerow(header)\n",
    "       #   writer.writerow(data)\n",
    "    #import pandas as pd\n",
    "    #df=pd.read_csv(r\"C:\\Users\\Acer\\amazonwebscraperdataset.csv\")\n",
    "    #print(df) \n",
    "    with open(\"amazonwebscraperdataset.csv\",\"a+\", newline='', encoding='UTF8') as f:\n",
    "          writer=csv.writer(f)\n",
    "          writer.writerow(data)\n",
    "    while(True):\n",
    "        checkprice()\n",
    "        Time.sleep(86400)\n",
    "import pandas as pd\n",
    "df=pd.read_csv(r\"C:\\Users\\Acer\\amazonwebscraperdataset.csv\")\n",
    "print(df) \n",
    "        "
   ]
  },
  {
   "cell_type": "code",
   "execution_count": null,
   "id": "c1a3ff6b-5ca3-42f2-9a37-dd2bc3e5fb89",
   "metadata": {},
   "outputs": [],
   "source": []
  }
 ],
 "metadata": {
  "kernelspec": {
   "display_name": "Python 3 (ipykernel)",
   "language": "python",
   "name": "python3"
  },
  "language_info": {
   "codemirror_mode": {
    "name": "ipython",
    "version": 3
   },
   "file_extension": ".py",
   "mimetype": "text/x-python",
   "name": "python",
   "nbconvert_exporter": "python",
   "pygments_lexer": "ipython3",
   "version": "3.12.4"
  }
 },
 "nbformat": 4,
 "nbformat_minor": 5
}
